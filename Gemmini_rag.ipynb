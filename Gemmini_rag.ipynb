{
 "cells": [
  {
   "cell_type": "code",
   "execution_count": 25,
   "metadata": {},
   "outputs": [],
   "source": [
    "from langchain_community.document_loaders import PyPDFLoader\n"
   ]
  },
  {
   "cell_type": "code",
   "execution_count": 26,
   "metadata": {},
   "outputs": [],
   "source": [
    "loader = PyPDFLoader(\"BD.pdf\")\n",
    "data = loader.load()"
   ]
  },
  {
   "cell_type": "code",
   "execution_count": 27,
   "metadata": {},
   "outputs": [
    {
     "data": {
      "text/plain": [
       "[Document(metadata={'source': 'BD.pdf', 'page': 0}, page_content=\"Bangladesh: An Overview XXI\\nBANGLADESH: An Overview\\nHistorical\\nBackground\\nThe history of Bangladesh is an eventful combination of turmoil and peace, as well as prosperity and\\ndestitution. It has thrived under the glow of cultural splendor and suffered under the ravages of war. The\\nterritory now constituting Bangladesh was under the Muslim rule over five and a half centuries from 1201\\nto 1757 A.D. Then it was ruled by the British, after the defeat of the last sovereign ruler of Bengal, Nawab\\nSiraj ud-Daulah, at the Battle of Plassey on the fateful day of June 23, 1757. The British ruled over the\\nentire Indian sub-continent including this territory for nearly 190 years from 1757 to 1947. During that\\nperiod Bangladesh was a part of the British Indian provinces of Bengal and Assam. With the termination\\nof the British rule in August, 1947 the sub-continent was partitioned into India and Pakistan. Bangladesh\\nthen became a part of Pakistan and was named as East Pakistan. It remained so far about 24 years from\\nAugust 14, 1947 to March 25, 1971. It appeared on the world map as an independent and sovereign\\nstate named Bangladesh on December 16, 1971 following victory at the War of Liberation (from March\\n25 to December 16, 1971).\\nGeographical Bangladesh lies in the north eastern part of South Asia between 20o34' and 26 o 38' north latitude\\nand 88 o 01' and 92 o 41' east longitude. The country is bounded by India on the west-north and north-\\neast while Myanmar on the south-east and the Bay of Bengal on the south. The area of the country is\\n56,977 sq. miles or 1, 47,570 sq. k.m. The limits of territorial water area of Bangladesh are 12 nautical\\nmiles and the area of the high seas extending to 200 nautical miles measured from the base lines\\nconstitutes the economic zone of the country. Bangladesh won in Arbitral Tribunal/PCA more than 1,\\n18,813 square kilometers of waters comprising territorial sea, exclusive economic zone extending out to\\n200 NM across sizable area, and also has undeniable sovereign rights in the sea bed extending as far as\\n354 NM from Chattogram coast in the Bay of Bengal with all the living and non living resources. To\\nachieve an equitable result, the tribunal awarded Bangladesh 19,467sq km of area out of total disputed\\narea of 25,602 sq km (approx).\\nPhysiography Except the hilly regions in the north-east, south-east and some areas of high land in the northern\\npart, the country consists of plain and fertile land. A network of rivers exists in the country of which the\\nPadma, the Jamuna, the Teesta, the Brahmaputra, the Surma, the Meghna and the Karnaphuli are\\nprominent. All those rivers have 230 tributaries with a total length of about 24140 kilometers. The alluvial\\nsoil is thus continuously being enriched by heavy silts deposited by rivers during the rainy season.\\nFlora and Fauna Of the total area of Bangladesh, forest lands account for almost 21.05% of its geographical surface.\\nThe total forest land includes classified and unclassified state lands and homestead forests and\\ntea/rubber gardens. The Sundarban is the largest mangrove forest in the world. It lies at the southern\\npart of the Ganges delta and is spread across the coastal areas of Bangladesh and West Bengal of India.\\nThe section of Sundarban that belongs to Bangladesh has been listed in the UNESCO world heritage.\\nThe Sundarban is known for its wide range of fauna. Sundarban is the home of the world famous 'Royal\\nBengal Tiger'. Numerous species of birds, spotted deer, crocodiles and snakes also inhabit there. The\\ncountry produces timber, bamboo and cane. Bamboos grow in almost all areas but quality timber grows\\nmostly in the hilly region of country. Among the timber sal, gamari, chaplish, telsu\\x00, jarul, teak, garjan\\nand sundari are valuably important. Plantation of rubber in the hilly regions of the country was\\nundertaken and extraction of rubber had already been started.\"),\n",
       " Document(metadata={'source': 'BD.pdf', 'page': 1}, page_content='XXII Bangladesh: An Overview\\nClimate Bangladesh enjoys generally a sub-tropical monsoon climate. While there are six seasons in a year,\\nthree namely, Winter, Summer and Monsoon are prominent. Winter which is quite pleasant begins in\\nNovember and ends in February. In Winter there is not usually much fluctuation in temperature which\\nranges from minimum of 7oC—13o C (45oF—55oF) to maximum of 24oC—31o C (75oF—85oF). The\\nmaximum temperature recorded in Summer is 37o C (98oF) although in some places this occasionally\\nrises up to 41oC (105oF) or more. Monsoon starts in July and stays up to October. This period accounts\\nfor 80% of the total rainfall. The average annual rainfall varies from 1429 to 4338 millimeters. The\\nmaximum rainfall is recorded in the coastal areas of Chattogram and northern part of Sylhet district, while\\nthe minimum is observed in the western and northern parts of the country.\\nPopulation The Bangladesh Bureau of Statistics conducted the fifth decennial population census in the country\\non March 15-19, 2011. As per population census 2011 report the population (adjusted) of the country\\nstood at 149.77 million in 2011. The male population was 74.98 million and female 74.79 million. The\\nintercensal growth rate of population 2011 census was 1.37 per annum. The density of population was\\n843 per sq.km. in 2001which increased to 976 per sq.km. in 2011. The sex ratio of the population is\\n100.25 males per 100 females. There were 32.1 million households in the country distributed over\\n56,348 mauzas (revenue villages).\\nBangladesh Bureau of Statistics introduces Sample Vital Registration System (SVRS) in 1980 to\\ndetermine the annual population change during inter-censal period. As reported in the SVRS the\\npopulation (estimated) of the country stood at 162.7 million in 1 July, 2017. The male population was\\n81.4 million and female 81.3 million. The intercensal growth rate of population 2017 SVRS was 1.37 per\\nannum. The density of population was 1090 per sq.km. in 2016 which increased to 1103 per sq.km. in\\n2017. The sex ratio of the population is 100.2 males per 100 females.\\nLabour Forces The total employed population (million) 15+ of the country has been estimated at 63.5 million as per\\nReport of Labour Force Survey, 2016-17, of which 43.5 million are male and 20.0 million are female\\nwhile it was 62.2 million for both sex, 43.1 million for male and 19.1 million for female in Labour Force\\nSurvey 2015-16 as per usual definition.\\nCapital and other\\nCities average\\nDhaka, formerly Dacca, is the capital and the largest metropolitan city of the country. The city is\\nwithin the monsoon climate zone, with an annual average temperature of 25oC (77oF) and monthly\\nvarying between 18oC (64oF) in January and 29oC (84oF) in August. Chattogram is the main sea port\\nand second largest metropolitan city of Bangladesh and has extensively developed port facilities for\\nocean steamers.'),\n",
       " Document(metadata={'source': 'BD.pdf', 'page': 2}, page_content='Bangladesh: An Overview XXIII\\nAdministrative\\nSetup\\nBangladesh is governed by a Parliamentary Form of Government. The President is the head of the\\nState while the Prime Minister is the head of the Government. According to the Constitutions, the Prime\\nMinister is appointed by the President based upon the result of the electorate’s choice in parliamentary\\ngeneral election. The Prime Minister is selected by the President. The Prime Minister is assisted by a\\ncouncil of ministers in discharging his/her duties. For the convenience of administration, the country is\\ndivided into eight administrative divisions; each is placed under a Divisional Commissioner. Each division\\nis further sub-divided into zilas (Districts). After the administrative re-organization carried out in 1984, the\\ncountry has been divided into 64 zilas. Each zila is headed by a Deputy Commissioner (DC) who is\\nassisted by other officials. Each zila is further divided into a number of Upazilas (Sub district) headed by\\nUpazila Nirbahi Officer(UNO).\\nThe legislature The constitution provides a Parliament for Bangladesh (to be known as the House of the Nation) in\\nwhich legislative power of the Republic is vested. It consists of 300 members directly elected by adult\\nfranchise. The Members of House of the nation elect another 50 female members. Thus, the total\\nnumber of members of the House is 350.\\nThe Judiciary The Supreme Court of Bangladesh is the highest judicial organ and comprises of the Appellate\\nDivision and the High Court Division. The Supreme Court of Bangladesh is headed by a Chief Justice.\\nThe Supreme Court serves as the guardian of the constitution and enforces the fundamental rights of the\\ncitizens. The Appellate Division hears and determines appeals from judgments, decrees, orders or\\nsentences of the High Court Division. At the district level, the district court is headed by Sub judge who\\nis assisted by Additional District Judge, subordinate judges, assistant judges and magistrates.\\nLocal\\nGovernment\\nThe tires of Local Government are (i) Union Parishad, (ii) Upazila Parishad, and (iii) Zila Parishad\\nHowever, in the urban areas, there are two types of Local Government System –namely (i) Pourashava\\n(Municipality) and (ii) City Corporation. The Local Government bodies are constituted by the\\nrepresentatives directly elected by the people.\\nFundamental\\nForeign Policy of\\nBangladesh\\nThe fundamental Foreign Policy of Bangladesh is - The state shall base its international relations on\\nthe principles of respect for national sovereignty and equality, non-interference in the internal affairs of\\nother countries, peaceful settlements of international disputes, and respect for international law on the\\nprinciples enunciated in the United Nations Charters and on the basis of those principles shall –\\na. (a) Strive for the renunciation of the use of force in international relations and for general and\\ncomplete disarmament,\\nb. (b) Uphold the right of every people freely to determine and build up its own social, economic and\\npolitical system by ways and means of its own free choice, and\\nc. © Support oppressed peoples throughout the world wagging a just struggle against imperialism,\\ncolonialism or racialism.'),\n",
       " Document(metadata={'source': 'BD.pdf', 'page': 3}, page_content='XXIV Bangladesh: An Overview\\nCommunication\\nSystem\\nThe country has about 2835 kilometers of rail-way, 21269 kilometers of paved road and roughly\\n6000 kilometers of perennial and seasonal waterways. Side by side with development of road transport,\\nefforts are under way to develop the water transport system. In fact, rivers are the life line of the nation,\\nwhich provide the cheapest means of transport, water for agricultural operation and ensure supply of fish\\nfor people. Steps have been taken to put more mechanized boats into service and modernize the existing\\ncountry boats.\\nRegarding air transport facilities, Dhaka is connected by air with London, Bangkok, Abudhabi,\\nTokyo, Kuala lumpur, Singapore, Karachi, Mumbai, Kolkata, Dubai, Jeddah, Kathmandu, Yangon,\\nKuwait, Rome and Bahrain by her national airline (Biman). A number of foreign airlines operate their\\ninternational services with a link to Dhaka. Regular air services are operated by the Biman between\\nDhaka and other major towns in the country. The two sea ports of Bangladesh are situated in\\nChattogram and Mongla. Payra sea port is the 3rd sea port of Bangladesh located on the bank of\\nRabnabad Channel under Kalapara, Patuakhali. Among the river ports and terminals, Dhaka,\\nNarayanganj, Chandpur, Barishal, Khulna, Aricha, Paturia, Goalando, Jagannathganj ghat, Bhairab\\nBazar, Bahadurabad and Fulchari ghat are important.\\nThe country has a network of radio and television broadcasting. There were two television stations in\\nDhaka and Chattogram under government and it increased to 17 stations. Presently 31 television\\nchannels are broadcasting under the government & private ownerships. The television system was\\nintroduced in 1965 and since then sub-stations have been set up in Sylhet, Khulna, Rangpur,\\nMymensingh, Natore, Noakhali, Satkhira, Cox’s Bazar, Rangamati, Thakurgaon, Patuakhali,\\nBrahmanbaria, Jhenaidah, Rajshahi etc. The Colour Television system was introduced on 1st December,\\n1980. An extensive telecommunication system has connected the capital city with other places within the\\ncountry. Telecommunication lines have also been established with major cities of the world through the\\nearth satellite ground stations at Betbunia in the Chattogram Hill-Tracts and Talibabad (Kaliakoir) in\\nGazipur Zila. In order to cater the high speed of data communication Bangladesh has already been\\nlinked with information superhighway through submarine cable in the Bay of Bengal.'),\n",
       " Document(metadata={'source': 'BD.pdf', 'page': 4}, page_content=\"Bangladesh: An Overview XXV\\nEducation and\\nCulture\\nThe education system of Bangladesh is divided into Three levels (i) Primary (from grades 1 to 8),\\nSecondary (from grades 9 to 10), Higher Secondary (from grades 11 to 12) and Tertiary. Besides, there\\nare some private institutions providing English medium education. They offer 'O' level and 'A' level\\ncourses. The highest allocation in the national budget for education exposes that Government of\\nBangladesh is very much keen for human resources development through education. Bangladesh has\\nalso Madrasa system of education which emphasizes on Arabic medium Islam-based education. This\\nsystem is supervised by the Madrasa Board of the country.\\nBangla is the mother tongue of Bangladesh. But to establish Bangla as the mother language,\\nBangalees had to sacrifice their lives. A number of People were martyrized in February 21, 1952 to\\nestablish the rights of mother language. In recognition of their supreme sacrifice, UNESCO declared 21st\\nFebruary as the” International Mother Language Day” throughout the world.\\nBangladesh has a rich historical and cultural past; combining Dravidian, Indo-Aryan, and Mongolian,\\nMughal, Arab, Persian, Turkish and West European cultures. Bangladesh has a unique cultural history,\\ndating back more than 2500 years ago. The land, the rivers and the lives of the common people\\ncombined have formed a rich heritage. The culture of Bangladesh is composed of different forms,\\nincluding music, dance and drama, art and craft, folklores and folktales, language and literature,\\nphilosophy and religion, festivals and celebrations etc. Festivals and celebrations are an integral part of\\nthe culture of Bangladesh. Pohela Baishakh (Bengali New Year), Independence Day, Victory Day\\nNational Mourning Day, Eid-ul-Fitre, Eid-ul-Azha, Muharram, Durga Puja, Shahid Dibash and\\nInternational Mother Language Day, Buddha Purnima etc. are widely celebrated, across the country.\\nBangladeshis are great enthusiasts of sports and games. Football, handball, basketball, volleyball,\\ntable tennis, hockey, badminton, cricket, kabadi, swimming, boat racing and lawn tennis are some of the\\nmost popular outdoor games in this country.\\nAgriculture and\\nMain Crops\\nBangladesh is mainly an agricultural country. Agriculture is the single largest producing sector of\\nthe economy and contributes about 13.82 % to the total Gross Domestic Product (GDP) of the country.\\nThis sector also accommodates around 40.6% (in 2016-17) of labour force. GDP growth rate of\\nBangladesh mainly depends on the performance of the agriculture sector. Due to natural calamities like\\nflood cyclone, drought, loss of production in both food and cash crops are almost a regular phenomenon.\\nYet in recent years, there has been a substantial increase in food grain production. Agricultural holding\\nin Bangladesh is generally small but use of modern machinery and equipment is gradually increasing.\\nRice, jute, sugarcane, potato, pulses, wheat, tea and tobacco are the principal crops of Bangladesh.\\nCrop diversification programme, credit supply, extension work, research and input distribution policies\\npursued by the government are yielding positive results. The country is now on the threshold of attaining\\nself-sufficiency in food grain production.\"),\n",
       " Document(metadata={'source': 'BD.pdf', 'page': 5}, page_content=\"XXVI Bangladesh: An Overview\\nFish Wealth Bangladesh is rich in fish wealth. In the innumerable rivers, canals, tanks and other low lying and\\ndepressed areas and paddy fields that remain under water for about 6 months in a year and cover nearly\\n12 million acres, tropical fish of hundreds of varieties are cultivated. Rice and fish constitutes an average\\nBangladeshi's principal diet. Hilsa, lobsters and shrimps are some of the fish varieties that are exported\\nto foreign countries. Having the Bay of Bengal in the south of the country enjoys geographic advantage\\nfor marine fishing.\\nMineral\\nResources\\nand Energy\\nBangladesh has a few proven mineral resources. The country has enormous deposit of natural gas.\\nSo far, 17 gas fields have been discovered from which natural gas is available for power-generation,\\nindustrial and other uses. Fertilizer factories that are operating in the country including the petro-chemical\\ncomplex at Ashuganj and also those yet to be commissioned in near future are and will be using sizeable\\nquantity of natural gas.\\nCoal deposits have been found in Bangladesh and mining activity is going on with international\\nassistance. Electricity is produced by both thermal and hydro-electric process. The total generation of\\nelectricity amounted to 55346 million kilowatt hours in 2016-17. The solitary hydro-electric project having\\ninstalled capacity of producing 230 m.w.electricity is located at Kaptai in the Chattogram Hill Tracts.\\nLimestone, the basic raw material for the production of cement, has been found in some places in the\\ncountry and cement factories are being set up for their utilization. Other minerals found include hard rock,\\nlignite, silica sand, white clay, etc. Salt is manufactured on a small scale at several thousand evaporation\\nsites in the coastal areas of Chattogram and Cox's Bazar.\\nExtensive radio-active sand deposits have been found all along the beaches from Kutubdia to\\nTeknaf. A survey estimates the reserve to be of the order of 0.5 million tons of sand containing a\\nsignificant amount of usable heavy minerals.\\nIndustries Although Bangladesh is predominantly an agricultural country. A large number of large-scale\\nindustries based on both indigenous and imported raw materials have been set up. Among them ready-\\nmade garments, cotton textile, pharmaceuticals, fertilizer, wood product, iron and steel, ceramic, cement\\nand plastic product, chemical are important ones. Other notable industries are engineering and ship\\nbuilding, oil refinery, paints, colours and varnishes, electric cables and wires, electric lamps, fluorescent\\ntube lights, other electrical goods and accessories, matches, cigarettes, etc.. Among the cottage\\nindustries, handlooms, carpet-making, shoe-making, coir, bamboo and cane products, earthenware,\\nbrass and bell metal products, bidi and cheroots, small tools and implements, ornaments, etc. are\\nimportant.\\nThe manufacturing sector contributes about 18% of the GDP. Growth rate of manufacturing sector is\\ndominated by ready-made garments. Bangladesh is the fifth largest garment exporter to the European\\nUnion and among the top ten apparel suppliers to the US. In the past two decades, Bangladesh has\\nemerged as a very successful manufacturer and exporter of ready-made garments.\"),\n",
       " Document(metadata={'source': 'BD.pdf', 'page': 6}, page_content='Bangladesh: An Overview XXVII\\nFinance,\\nBanking\\nand Insurance\\nBangladesh has a mixed banking system comprising nationalized, private and foreign commercial\\nbanks. Bangladesh Bank is the central bank of the country and is entrusted with the responsibilities of\\nformulating monetary policies of the Government and controls all commercial banks. The Grameen\\nBank is a core microfinance organization and also community development bank in Bangladesh\\nproviding small loans (known as microcredit) to impoverished people without requiring collateral. The\\nsystem is based on the idea that the poor have skills that are under-utilized but do not have the capacity\\nto take loan from conventional banks by providing collateral. The bank also accepts deposits, provides\\nother services, and runs several development-oriented businesses including fabric, telephone and\\nenergy companies.\\nIn recent years, the banking system has been greatly changed. In light of the avowed Government\\npolicy of encouraging the private sector to play its due role in economic development of the country. The\\nGovernment has allowed setting up of commercial and investment banks in the private sector. In\\nresponse to this encouraging Government policy quite a number of commercial and investment banks\\nincluding some Islamic banks have been set up in the private sector and have started functioning.\\nThere are other specialized financial institutions namely, House Building Finance Corporation,\\nBangladesh Krishi (Agriculture) Bank, Bangladesh Shilpa (Industrial) Bank, Bangladesh Shilpa Rin\\nSangstha (Industrial credit organization) and Co-operative Banks which are operating in their respective\\nfields to facilitate these sectors by providing credit and other services at convenient terms. Industrial\\nCredit and Investment Corporation of Bangladesh has also been set up by the Government to provide\\nequity support to public limited companies in the private sector.\\nIn the field of insurance the Government has allowed both public and private sectors to operate life as\\nwell as non-life insurance business in order to develop a strong competition. In the public sector, there\\nare one Jiban Bima Corporation and Postal Life Insurance for the life insurance business and one\\nShadharan Bima Corporation for general insurance business. In the private sector more than sixty one\\n(61) companies are engaged in life and general insurance business.'),\n",
       " Document(metadata={'source': 'BD.pdf', 'page': 7}, page_content='XXVIII Bangladesh: An Overview\\nTourists\\nattractions\\nBangladesh is a large delta laden with bounties of nature. The borderland along the north-east, east\\nand the south-east is evergreen forested hills with wondrous wildlife. All her six seasons vibrate with fairs\\nand festivals, mirth and merriment.\\nThough Bangladesh is one of the world’s smallest countries, it has the world’s longest unbroken\\nsandy sea-beach along the Bay of Bengal at Cox’s Bazar, The Sundarbans, (the largest mangrove\\nforest), the home of the Royal Bengal Tiger and the spotted deer, it is recognized as the part of world\\nheritage by UNESCO for being the diffuse home of flora and fauna. Dhaka - the capital known as the city\\nof mosques, Rangamati - the heart of the panoramic lake district, Sylhet-land of holy shrines of great\\nreligious saints and of fascinating hills and tea gardens, Chattogram - the largest port city and the\\nCommercial Capital of the country known as the city of holy shrines, Mainamati, Mohasthangarh and\\nPaharpur archaeological treasures in the country over the period from 300 BC to 1200 AD. Saint\\nMartin’s, a beautiful coral island about 10 km south-west of the southern tip of the mainland is a topical\\nslime, with beaches fringed with coconut plants and beautiful marine life are one of the most attractions\\nin the country. Except these, Kuakata’s long and wide unique beach and Foy’s lake, a man-made lake in\\nPatuakhali sets amidst picturesque surroundings is the natural form. Above all riverine beauty, colourful\\ntribal life and simple village life of the friendly millions are the main motivational factors for potential\\nvisitors.\\nBangladesh has a variety of attractions for visitors, tourists and holidaymakers including\\narchaeological sites, historical mosques and monuments, resorts, beaches, anthropological\\ncommunities, forests, flora and fauna.\\nThe Government of Bangladesh recognized tourism as an industry and declared a National Tourism\\nPolicy for the development of domestic and international tourism in Bangladesh. Bangladesh Parjatan\\nCorporation, National Tourism Organization is playing the leading role as promoter of the industry.'),\n",
       " Document(metadata={'source': 'BD.pdf', 'page': 8}, page_content='Bangladesh: An Overview XXIX\\nBangladesh\\nVision-2021\\nEmpowerment of\\nWomen\\nVision 2021 is a perspective plan to build Bangladesh a middle income and technology based country\\nby 2021. The main perspective plans are:\\n2010: 100 percent net student enrolment at primary level.\\n2011: Supply of pure drinking water for the entire population.\\n2012: Self-Sufficiency in food.\\n2013: Each house brought under hygienic sanitation.\\n2013: Attain 8 percent annual growth rate and this will be increased to 10 percent in 2017 and sustained.\\n2013: Bangladesh generates 7000 Megawatt of electricity which will be further increased to 8000\\nMegawatt in 2015. Steps will be taken to increase power generation capacity assuming that the\\ndemand for power will reach the level of 20,000 Megawatt in 2021.\\n2013: Free tuition up to degree level.\\n2014: Bangladesh attains full literacy.\\n2015: Living accommodation for the entire population.\\n2021: Contribution of agriculture, industry and service sector to GDP will stand at 15,40 and 45 percent\\nrespectively in place of 22,28 and 50 percent as at percent.\\n2021: Unemployment reduced to 15 percent from the present rate of 40 percent.\\n2021: Labour in agriculture comes down to 30% from 48% at present.\\n2021: Labour in industry is 25% from 16% and in service 45% from 36% at present.\\n2021: Poverty rate comes down to 15% from 45% at present\\n2021: Bangladesh knows as a country of educated people with skills in information technology.\\n2021: 85% of the population have standard nutritional food.\\n2021: Poor people ensured a minimum of 2122 kilo calories of food.\\n2021: All kinds of contagious diseases eliminated.\\n2021: Longevity increases to 70 years.\\n2021: Infant mortality comes down to 15 from 54 per thousand at present.\\n2021: Maternal death rate reduced to 1.5% from 3.8%.\\n2021: Use of birth control methods increased to 80%\\nThe term empowerment is a process through which women in general gain control over resources\\nand decision making.\\nThe present situation of the women in our country is unfortunate, The women especially who live in\\nthe rural areas passing inhuman life. Rights and liberty is the dream to them, Number of women is not\\nenough in our administration and Very few women are involved in Politics. The political status of our\\nwomen is not satisfactory. Participation of women in our economic activities is also very poor. Wage\\ndifferentials between men and women are very high in case of wage employment.\\nThe factors behind the disempowerment of women are:\\nA. Economic factors\\nI) Dependency on men\\nII) Ownership of land\\nIII) Less scope for employment\\nB. Socio-cultural and religious factors\\nI) Illiteracy\\nII) Socially ignored\\nIII) Cultural apathy\\nIV) Purdah or Seclusion.\\nC. Political factors\\nI) Indifference of political parties\\nII) Limited participation in electoral politics\\nIII) Intra-household discrimination.'),\n",
       " Document(metadata={'source': 'BD.pdf', 'page': 9}, page_content='XXX Bangladesh: An Overview\\nEducational\\nPolicy\\nWith a view to implementing the election manifesto 2008, Vision 2021 and digital Bangladesh. ; The\\ngovernment has adopted consistent with what has been provided for in the constitution and it will work as a\\nstrategy to develop the country as secular and citizen friendly environment where well planned education\\nsystem will operate to ensure social welfare.\\nThe policy aims at stimulating intellectual ability and instilling work culture and social skills as well as\\nestablishing moral, human, cultural, scientific and social values at personal and national levels.\\nThe major characteristic of the education policy 2010 is that it proposes primary education up to grade\\nVIII and Secondary education up to grade XII. The implementation period of the education policy is\\nassumed a total additional cost of TK.68, 000 core has been estimated for the venture.\\nEnergy Policy The government has been preparing power system master plan 2021 to realize the goal to provide\\nthe electricity for all.\\nAccording to the initial finding of power system master plan, 2010 study, the maximum demand\\nincluding captive power in 2015, 2021 and 2030 would be about 12000, 20000 and 36000 respectively.\\nIndustrial Policy\\nThe meet the demand with reasonable reliability, instable capacity will be increased to 23000 mw\\nand 37000 mw by the year 2021 and 2030 respectively.\\nTo fulfill the growing demand of electricity, various short, medium and long term generations,\\ndistribution and transmission project are in implementation.\\nAccording to the existing generation expansion programme, a total of 11,456 mw of new generation\\nwill be added to the national grid by the end of 2015.\\nThe industrial policy 2010 of Bangladesh proposed an integrated strategy of economic growth\\nthrough rapid industrialization. It has been prepared taking into consideration the government’s\\ndetermination to achieve millennium development goals by 2015, and halve the number of the unemployed,\\nand hunger and poverty stricken people by 2017. To alleviate poverty by creating additional employment\\nopportunities, the policy aims to create job for one person per family.\\nThe industrial policy envisages rapid industrialization through short, medium and long term\\nmeasures for raising the rate of GDP growth to 10.22 % by 2016-17, and 12.06 % by 2017-18. It emphasizes\\nan increase in the industry sector’s share in GDP to 40% by 2021.\\nThe industrial policy 2010, recommends for establishing economic zones, Industrial parks, high\\ntech parks and private Export Processing Zone for rapid and balanced industrial development of the country.\\nThe policy recommends that the public sector’s industries will be complementary and competitive to\\nprivate sector’s industries. Besides, public-private partnership will be an important element of the industrial\\npolicy.')]"
      ]
     },
     "execution_count": 27,
     "metadata": {},
     "output_type": "execute_result"
    }
   ],
   "source": [
    "data"
   ]
  },
  {
   "cell_type": "code",
   "execution_count": 28,
   "metadata": {},
   "outputs": [
    {
     "data": {
      "text/plain": [
       "10"
      ]
     },
     "execution_count": 28,
     "metadata": {},
     "output_type": "execute_result"
    }
   ],
   "source": [
    "len(data)"
   ]
  },
  {
   "cell_type": "code",
   "execution_count": 37,
   "metadata": {},
   "outputs": [
    {
     "data": {
      "text/plain": [
       "93"
      ]
     },
     "execution_count": 37,
     "metadata": {},
     "output_type": "execute_result"
    }
   ],
   "source": [
    "from langchain.text_splitter import RecursiveCharacterTextSplitter\n",
    "text_spliter =RecursiveCharacterTextSplitter(chunk_size=500)\n",
    "douc= text_spliter.split_documents(data)\n",
    "len(douc)"
   ]
  },
  {
   "cell_type": "code",
   "execution_count": 38,
   "metadata": {},
   "outputs": [
    {
     "data": {
      "text/plain": [
       "Document(metadata={'source': 'BD.pdf', 'page': 0}, page_content=\"then became a part of Pakistan and was named as East Pakistan. It remained so far about 24 years from\\nAugust 14, 1947 to March 25, 1971. It appeared on the world map as an independent and sovereign\\nstate named Bangladesh on December 16, 1971 following victory at the War of Liberation (from March\\n25 to December 16, 1971).\\nGeographical Bangladesh lies in the north eastern part of South Asia between 20o34' and 26 o 38' north latitude\")"
      ]
     },
     "execution_count": 38,
     "metadata": {},
     "output_type": "execute_result"
    }
   ],
   "source": [
    "douc[3]"
   ]
  },
  {
   "cell_type": "code",
   "execution_count": 39,
   "metadata": {},
   "outputs": [
    {
     "data": {
      "text/plain": [
       "True"
      ]
     },
     "execution_count": 39,
     "metadata": {},
     "output_type": "execute_result"
    }
   ],
   "source": [
    "from langchain_chroma import Chroma\n",
    "from langchain_google_genai import GoogleGenerativeAIEmbeddings\n",
    "from dotenv import load_dotenv\n",
    "load_dotenv()"
   ]
  },
  {
   "cell_type": "code",
   "execution_count": 40,
   "metadata": {},
   "outputs": [],
   "source": [
    "import os"
   ]
  },
  {
   "cell_type": "code",
   "execution_count": 41,
   "metadata": {},
   "outputs": [
    {
     "data": {
      "text/plain": [
       "[0.04201357811689377,\n",
       " -0.03638027608394623,\n",
       " -0.03496973589062691,\n",
       " -0.007133544888347387,\n",
       " 0.0791676938533783]"
      ]
     },
     "execution_count": 41,
     "metadata": {},
     "output_type": "execute_result"
    }
   ],
   "source": [
    "api_key = os.getenv(\"GOOGLE_API_KEY\")\n",
    "embeddings = GoogleGenerativeAIEmbeddings(api_key=api_key, model=\"models/embedding-001\")\n",
    "\n",
    "\n",
    "vector = embeddings.embed_query(\"do you know Bangladesh!\")\n",
    "vector[:5]"
   ]
  },
  {
   "cell_type": "code",
   "execution_count": 42,
   "metadata": {},
   "outputs": [],
   "source": [
    "vectorstore = Chroma.from_documents(documents=douc, embedding=GoogleGenerativeAIEmbeddings(model=\"models/embedding-001\"))"
   ]
  },
  {
   "cell_type": "code",
   "execution_count": null,
   "metadata": {},
   "outputs": [],
   "source": [
    "retriever = vectorstore.as_retriever(search_type=\"similarity\", search_kwargs={\"k\": 7})\n",
    "\n",
    "retrieved_docs = retriever.invoke(\"Do you know the country how many kilometers of rail-way?\")"
   ]
  },
  {
   "cell_type": "code",
   "execution_count": 44,
   "metadata": {},
   "outputs": [
    {
     "data": {
      "text/plain": [
       "7"
      ]
     },
     "execution_count": 44,
     "metadata": {},
     "output_type": "execute_result"
    }
   ],
   "source": [
    "len(retrieved_docs)"
   ]
  },
  {
   "cell_type": "code",
   "execution_count": 45,
   "metadata": {},
   "outputs": [
    {
     "name": "stdout",
     "output_type": "stream",
     "text": [
      "The country has a network of radio and television broadcasting. There were two television stations in\n",
      "Dhaka and Chattogram under government and it increased to 17 stations. Presently 31 television\n",
      "channels are broadcasting under the government & private ownerships. The television system was\n",
      "introduced in 1965 and since then sub-stations have been set up in Sylhet, Khulna, Rangpur,\n",
      "Mymensingh, Natore, Noakhali, Satkhira, Cox’s Bazar, Rangamati, Thakurgaon, Patuakhali,\n"
     ]
    }
   ],
   "source": [
    "print(retrieved_docs[5].page_content)"
   ]
  },
  {
   "cell_type": "code",
   "execution_count": 46,
   "metadata": {},
   "outputs": [],
   "source": [
    "from langchain_google_genai import ChatGoogleGenerativeAI\n",
    "llm =ChatGoogleGenerativeAI(model=\"gemini-1.5-pro\",temperature=0.4,max_tokens=200)"
   ]
  },
  {
   "cell_type": "code",
   "execution_count": 17,
   "metadata": {},
   "outputs": [
    {
     "name": "stdout",
     "output_type": "stream",
     "text": [
      "Defaulting to user installation because normal site-packages is not writeable\n",
      "Requirement already satisfied: langchain in c:\\users\\israk hasan\\appdata\\roaming\\python\\python311\\site-packages (0.3.10)\n",
      "Requirement already satisfied: PyYAML>=5.3 in c:\\users\\israk hasan\\appdata\\roaming\\python\\python311\\site-packages (from langchain) (6.0.2)\n",
      "Requirement already satisfied: SQLAlchemy<3,>=1.4 in c:\\users\\israk hasan\\appdata\\roaming\\python\\python311\\site-packages (from langchain) (2.0.36)\n",
      "Requirement already satisfied: aiohttp<4.0.0,>=3.8.3 in c:\\users\\israk hasan\\appdata\\roaming\\python\\python311\\site-packages (from langchain) (3.11.10)\n",
      "Requirement already satisfied: langchain-core<0.4.0,>=0.3.22 in c:\\users\\israk hasan\\appdata\\roaming\\python\\python311\\site-packages (from langchain) (0.3.22)\n",
      "Requirement already satisfied: langchain-text-splitters<0.4.0,>=0.3.0 in c:\\users\\israk hasan\\appdata\\roaming\\python\\python311\\site-packages (from langchain) (0.3.2)\n",
      "Requirement already satisfied: langsmith<0.2.0,>=0.1.17 in c:\\users\\israk hasan\\appdata\\roaming\\python\\python311\\site-packages (from langchain) (0.1.147)\n",
      "Requirement already satisfied: numpy<2,>=1.22.4 in c:\\users\\israk hasan\\appdata\\roaming\\python\\python311\\site-packages (from langchain) (1.26.4)\n",
      "Requirement already satisfied: pydantic<3.0.0,>=2.7.4 in c:\\users\\israk hasan\\appdata\\roaming\\python\\python311\\site-packages (from langchain) (2.10.3)\n",
      "Requirement already satisfied: requests<3,>=2 in c:\\users\\israk hasan\\appdata\\roaming\\python\\python311\\site-packages (from langchain) (2.32.3)\n",
      "Requirement already satisfied: tenacity!=8.4.0,<10,>=8.1.0 in c:\\users\\israk hasan\\appdata\\roaming\\python\\python311\\site-packages (from langchain) (9.0.0)\n",
      "Requirement already satisfied: aiohappyeyeballs>=2.3.0 in c:\\users\\israk hasan\\appdata\\roaming\\python\\python311\\site-packages (from aiohttp<4.0.0,>=3.8.3->langchain) (2.4.4)\n",
      "Requirement already satisfied: aiosignal>=1.1.2 in c:\\users\\israk hasan\\appdata\\roaming\\python\\python311\\site-packages (from aiohttp<4.0.0,>=3.8.3->langchain) (1.3.1)\n",
      "Requirement already satisfied: attrs>=17.3.0 in c:\\users\\israk hasan\\appdata\\roaming\\python\\python311\\site-packages (from aiohttp<4.0.0,>=3.8.3->langchain) (24.2.0)\n",
      "Requirement already satisfied: frozenlist>=1.1.1 in c:\\users\\israk hasan\\appdata\\roaming\\python\\python311\\site-packages (from aiohttp<4.0.0,>=3.8.3->langchain) (1.5.0)\n",
      "Requirement already satisfied: multidict<7.0,>=4.5 in c:\\users\\israk hasan\\appdata\\roaming\\python\\python311\\site-packages (from aiohttp<4.0.0,>=3.8.3->langchain) (6.1.0)\n",
      "Requirement already satisfied: propcache>=0.2.0 in c:\\users\\israk hasan\\appdata\\roaming\\python\\python311\\site-packages (from aiohttp<4.0.0,>=3.8.3->langchain) (0.2.1)\n",
      "Requirement already satisfied: yarl<2.0,>=1.17.0 in c:\\users\\israk hasan\\appdata\\roaming\\python\\python311\\site-packages (from aiohttp<4.0.0,>=3.8.3->langchain) (1.18.3)\n",
      "Requirement already satisfied: jsonpatch<2.0,>=1.33 in c:\\users\\israk hasan\\appdata\\roaming\\python\\python311\\site-packages (from langchain-core<0.4.0,>=0.3.22->langchain) (1.33)\n",
      "Requirement already satisfied: packaging<25,>=23.2 in c:\\users\\israk hasan\\appdata\\roaming\\python\\python311\\site-packages (from langchain-core<0.4.0,>=0.3.22->langchain) (24.1)\n",
      "Requirement already satisfied: typing-extensions>=4.7 in c:\\users\\israk hasan\\appdata\\roaming\\python\\python311\\site-packages (from langchain-core<0.4.0,>=0.3.22->langchain) (4.12.2)\n",
      "Requirement already satisfied: httpx<1,>=0.23.0 in c:\\users\\israk hasan\\appdata\\roaming\\python\\python311\\site-packages (from langsmith<0.2.0,>=0.1.17->langchain) (0.28.1)\n",
      "Requirement already satisfied: orjson<4.0.0,>=3.9.14 in c:\\users\\israk hasan\\appdata\\roaming\\python\\python311\\site-packages (from langsmith<0.2.0,>=0.1.17->langchain) (3.10.12)\n",
      "Requirement already satisfied: requests-toolbelt<2.0.0,>=1.0.0 in c:\\users\\israk hasan\\appdata\\roaming\\python\\python311\\site-packages (from langsmith<0.2.0,>=0.1.17->langchain) (1.0.0)\n",
      "Requirement already satisfied: annotated-types>=0.6.0 in c:\\users\\israk hasan\\appdata\\roaming\\python\\python311\\site-packages (from pydantic<3.0.0,>=2.7.4->langchain) (0.7.0)\n",
      "Requirement already satisfied: pydantic-core==2.27.1 in c:\\users\\israk hasan\\appdata\\roaming\\python\\python311\\site-packages (from pydantic<3.0.0,>=2.7.4->langchain) (2.27.1)\n",
      "Requirement already satisfied: charset-normalizer<4,>=2 in c:\\users\\israk hasan\\appdata\\roaming\\python\\python311\\site-packages (from requests<3,>=2->langchain) (3.4.0)\n",
      "Requirement already satisfied: idna<4,>=2.5 in c:\\users\\israk hasan\\appdata\\roaming\\python\\python311\\site-packages (from requests<3,>=2->langchain) (3.10)\n",
      "Requirement already satisfied: urllib3<3,>=1.21.1 in c:\\users\\israk hasan\\appdata\\roaming\\python\\python311\\site-packages (from requests<3,>=2->langchain) (2.2.3)\n",
      "Requirement already satisfied: certifi>=2017.4.17 in c:\\users\\israk hasan\\appdata\\roaming\\python\\python311\\site-packages (from requests<3,>=2->langchain) (2024.8.30)\n",
      "Requirement already satisfied: greenlet!=0.4.17 in c:\\users\\israk hasan\\appdata\\roaming\\python\\python311\\site-packages (from SQLAlchemy<3,>=1.4->langchain) (3.1.1)\n",
      "Requirement already satisfied: anyio in c:\\users\\israk hasan\\appdata\\roaming\\python\\python311\\site-packages (from httpx<1,>=0.23.0->langsmith<0.2.0,>=0.1.17->langchain) (4.7.0)\n",
      "Requirement already satisfied: httpcore==1.* in c:\\users\\israk hasan\\appdata\\roaming\\python\\python311\\site-packages (from httpx<1,>=0.23.0->langsmith<0.2.0,>=0.1.17->langchain) (1.0.7)\n",
      "Requirement already satisfied: h11<0.15,>=0.13 in c:\\users\\israk hasan\\appdata\\roaming\\python\\python311\\site-packages (from httpcore==1.*->httpx<1,>=0.23.0->langsmith<0.2.0,>=0.1.17->langchain) (0.14.0)\n",
      "Requirement already satisfied: jsonpointer>=1.9 in c:\\users\\israk hasan\\appdata\\roaming\\python\\python311\\site-packages (from jsonpatch<2.0,>=1.33->langchain-core<0.4.0,>=0.3.22->langchain) (3.0.0)\n",
      "Requirement already satisfied: sniffio>=1.1 in c:\\users\\israk hasan\\appdata\\roaming\\python\\python311\\site-packages (from anyio->httpx<1,>=0.23.0->langsmith<0.2.0,>=0.1.17->langchain) (1.3.1)\n",
      "Note: you may need to restart the kernel to use updated packages.\n"
     ]
    }
   ],
   "source": [
    "pip install langchain\n"
   ]
  },
  {
   "cell_type": "code",
   "execution_count": 47,
   "metadata": {},
   "outputs": [
    {
     "name": "stdout",
     "output_type": "stream",
     "text": [
      "<!DOCTYPE html>\n",
      "<html>\n",
      "  <head>\n",
      "    <meta\n",
      "      http-equiv=\"Content-Security-Policy\"\n",
      "      content=\"default-src 'self'; img-src 'self' data:; media-src 'self' data:; object-src 'none'; style-src 'self' 'sha256-o4vzfmmUENEg4chMjjRP9EuW9ucGnGIGVdbl8d0SHQQ='; script-src 'self' 'sha256-a9bHdQGvRzDwDVzx8m+Rzw+0FHZad8L0zjtBwkxOIz4=';\"\n",
      "    />\n",
      "    <link\n",
      "      href=\"/_fs-ch-1T1wmsGaOgGaSxcX/assets/inter-var.woff2\"\n",
      "      rel=\"preload\"\n",
      "      as=\"font\"\n",
      "      type=\"font/woff2\"\n",
      "      crossorigin\n",
      "    />\n",
      "    <link href=\"/_fs-ch-1T1wmsGaOgGaSxcX/assets/styles.css\" rel=\"stylesheet\" />\n",
      "    <meta\n",
      "      name=\"viewport\"\n",
      "      content=\"width=device-width, initial-scale=1, maximum-scale=1\"\n",
      "    />\n",
      "    <style>\n",
      "      #loading-error {\n",
      "        font-size: 16px;\n",
      "        font-family: 'Inter', sans-serif;\n",
      "        margin-top: 10px;\n",
      "        margin-left: 10px;\n",
      "        display: none;\n",
      "      }\n",
      "    </style>\n",
      "  </head>\n",
      "  <body>\n",
      "    <noscript>\n",
      "      <div class=\"noscript-container\">\n",
      "        <div class=\"noscript-content\">\n",
      "          <img\n",
      "            src=\"/_fs-ch-1T1wmsGaOgGaSxcX/assets/errorIcon.svg\"\n",
      "            alt=\"Error Icon\"\n",
      "            class=\"error-icon\"\n",
      "          />\n",
      "          <span class=\"noscript-span\"\n",
      "            >JavaScript is disabled in your browser.</span\n",
      "          >\n",
      "          Please enable JavaScript to proceed.\n",
      "        </div>\n",
      "      </div>\n",
      "    </noscript>\n",
      "    <div id=\"loading-error\">\n",
      "      A required part of this site couldn’t load. This may be due to a browser\n",
      "      extension, network issues, or browser settings. Please check your\n",
      "      connection, disable any ad blockers, or try using a different browser.\n",
      "    </div>\n",
      "    <script>\n",
      "      function loadScript(src) {\n",
      "        return new Promise((resolve, reject) => {\n",
      "          const script = document.createElement('script');\n",
      "          script.onload = resolve;\n",
      "          script.onerror = (event) => {\n",
      "            console.error('Script load error event:', event);\n",
      "            document.getElementById('loading-error').style.display = 'block';\n",
      "            reject(\n",
      "              new Error(\n",
      "                `Failed to load script: ${src}, Please contact the service administrator.`\n",
      "              )\n",
      "            );\n",
      "          };\n",
      "          script.src = src;\n",
      "          document.body.appendChild(script);\n",
      "        });\n",
      "      }\n",
      "\n",
      "      loadScript('/_fs-ch-1T1wmsGaOgGaSxcX/errors.js')\n",
      "        .then(() => {\n",
      "          const script = document.createElement('script');\n",
      "          script.src = '/_fs-ch-1T1wmsGaOgGaSxcX/script.js?reload=true';\n",
      "          script.onerror = (event) => {\n",
      "            console.error('Script load error event:', event);\n",
      "            const errorMsg = new Error(\n",
      "              `Failed to load script: ${script.src}. Please contact the service administrator.`\n",
      "            );\n",
      "            console.error(errorMsg);\n",
      "            handleScriptError();\n",
      "          };\n",
      "          document.body.appendChild(script);\n",
      "        })\n",
      "        .catch((error) => {\n",
      "          console.error(error);\n",
      "        });\n",
      "    </script>\n",
      "  </body>\n",
      "</html>\n",
      "\n"
     ]
    }
   ],
   "source": [
    "import requests\n",
    "\n",
    "query = \"retrieval chain\"\n",
    "response = requests.get(f\"https://pypi.org/search/?q={query}\")\n",
    "print(response.text)  # This will show search results as HTML\n"
   ]
  },
  {
   "cell_type": "code",
   "execution_count": 50,
   "metadata": {},
   "outputs": [],
   "source": [
    "from langchain.chains import create_retrieval_chain\n",
    "from langchain.chains.combine_documents import create_stuff_documents_chain\n",
    "from langchain_core.prompts import ChatPromptTemplate\n",
    "\n",
    "system_prompt = (\n",
    "    \"You are an assistant for question-answering tasks. \"\n",
    "    \"Use the following pieces of retrieved context to answer \"\n",
    "    \"the question. If you don't know the answer, say that you \"\n",
    "    \"don't know. Use three sentences maximum and keep the \"\n",
    "    \"answer concise.\"\n",
    "    \"\\n\\n\"\n",
    "    \"{context}\"\n",
    ")\n",
    "\n",
    "prompt = ChatPromptTemplate.from_messages(\n",
    "    [\n",
    "        (\"system\", system_prompt),\n",
    "        (\"human\", \"{input}\"),\n",
    "    ]\n",
    ")\n",
    "\n"
   ]
  },
  {
   "cell_type": "code",
   "execution_count": 51,
   "metadata": {},
   "outputs": [],
   "source": [
    "question_answer_chain = create_stuff_documents_chain(llm, prompt)\n",
    "rag_chain = create_retrieval_chain(retriever, question_answer_chain)"
   ]
  },
  {
   "cell_type": "code",
   "execution_count": 53,
   "metadata": {},
   "outputs": [
    {
     "name": "stdout",
     "output_type": "stream",
     "text": [
      "The Padma, Jamuna, Teesta, Brahmaputra, Surma, Meghna, and Karnaphuli are major rivers in Bangladesh.  These rivers have 230 tributaries, totaling about 24,140 kilometers in length.  The alluvial soil benefits from the heavy silt deposits these rivers bring during the rainy season.\n",
      "\n"
     ]
    }
   ],
   "source": [
    "response = rag_chain.invoke({\"input\": \"What are the major rivers in Bangladesh?\"})\n",
    "print(response[\"answer\"])"
   ]
  },
  {
   "cell_type": "code",
   "execution_count": null,
   "metadata": {},
   "outputs": [],
   "source": []
  }
 ],
 "metadata": {
  "kernelspec": {
   "display_name": "Python 3",
   "language": "python",
   "name": "python3"
  },
  "language_info": {
   "codemirror_mode": {
    "name": "ipython",
    "version": 3
   },
   "file_extension": ".py",
   "mimetype": "text/x-python",
   "name": "python",
   "nbconvert_exporter": "python",
   "pygments_lexer": "ipython3",
   "version": "3.11.9"
  }
 },
 "nbformat": 4,
 "nbformat_minor": 2
}
